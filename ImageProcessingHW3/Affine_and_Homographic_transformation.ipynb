{
 "cells": [
  {
   "cell_type": "code",
   "execution_count": 23,
   "metadata": {},
   "outputs": [
    {
     "data": {
      "image/png": "[encoded data removed]",
      "text/plain": [
       "<Figure size 640x480 with 1 Axes>"
      ]
     },
     "metadata": {},
     "output_type": "display_data"
    }
   ],
   "source": [
    "# Section 1\n",
    "#http://ais.informatik.uni-freiburg.de/teaching/ws13/mapping/pdf/slam02-homegenous-4.pdf\n",
    "import matplotlib.pyplot as plt\n",
    "import numpy as np\n",
    "\n",
    "# Points a, b, c, d\n",
    "a, b, c, d = [0, 0, 1], [0, 1, 1], [1, 1, 1], [1, 0, 1]\n",
    "\n",
    "X = np.array([a, b, c, d]).T\n",
    "# Y = X + np.array([3, 4, 1]).reshape(3,1) # transfromed version of X\n",
    "\n",
    "\n",
    "t = np.array([2, 1]).T\n",
    "\n",
    "\n",
    "A  = np.array([[1, 0.5, t[0]], [2, 1.5, t[1]], [0, 0, 1]]) # Affine transformaiton\n",
    "Y = A @ X\n",
    "# Homographic transformation\n",
    "\n",
    "x = np.append(X[0, :], X[0, 0])\n",
    "y = np.append(X[1, :], X[1, 0])\n",
    "fig, ax = plt.subplots(1,1)\n",
    "ax.plot(x, y, color='g')\n",
    "\n",
    "x = np.append(Y[0, :], Y[0, 0])\n",
    "y = np.append(Y[1, :], Y[1, 0])\n",
    "ax.plot(x, y, color='r')\n",
    "ax.set_aspect('equal')\n",
    "plt.show()\n",
    "\n",
    "# more examples on https://docs.opencv.org/4.x/dd/d52/tutorial_js_geometric_transformations.html"
   ]
  },
  {
   "cell_type": "code",
   "execution_count": 24,
   "metadata": {},
   "outputs": [
    {
     "name": "stdout",
     "output_type": "stream",
     "text": [
      "translation matrix [[ 1  2  5]\n",
      " [ 0  1 10]\n",
      " [ 0  0  1]]\n"
     ]
    },
    {
     "data": {
      "image/png": "[encoded data removed]",
      "text/plain": [
       "<Figure size 640x480 with 1 Axes>"
      ]
     },
     "metadata": {},
     "output_type": "display_data"
    }
   ],
   "source": [
    "#Translation is the shifting of object's location.\n",
    "#M is the translation matrix\n",
    "M = np.array( [[1, 0, 5], [0, 1, 10],[0,0,1]]);\n",
    "print(\"translation matrix\",M)\n",
    "Y = M @ X\n",
    "\n",
    "\n",
    "x = np.append(X[0, :], X[0, 0])\n",
    "y = np.append(X[1, :], X[1, 0])\n",
    "fig, ax = plt.subplots(1,1)\n",
    "ax.plot(x, y, color='g')\n",
    "\n",
    "x = np.append(Y[0, :], Y[0, 0])\n",
    "y = np.append(Y[1, :], Y[1, 0])\n",
    "ax.plot(x, y, color='r')\n",
    "ax.set_aspect('equal')\n",
    "plt.show()\n",
    "\n",
    "#For roation and transform\n",
    "#theta = np.pi/180*60\n",
    "# H = np.array([[np.cos(theta), -np.sin(theta), t[0]], [np.sin(theta), np.cos(theta), t[1]], [0, 0, 1]])\n",
    "# Y = H @ X"
   ]
  },
  {
   "cell_type": "code",
   "execution_count": 5,
   "metadata": {},
   "outputs": [],
   "source": [
    "#  Section 2\n",
    "# Transfroming the first image onto the second\n",
    "# Gaffiti images: https://www.robots.ox.ac.uk/~vgg/data/affine/\n",
    "import numpy as np\n",
    "import cv2 as cv\n",
    "im1 = cv.imread('graf/img1.ppm', cv.IMREAD_ANYCOLOR)\n",
    "im2 = cv.imread('graf/img2.ppm', cv.IMREAD_ANYCOLOR)\n",
    "assert im1 is not None\n",
    "assert im2 is not None\n",
    "\n",
    "# H = np.array([[8.7976964e-01,   3.1245438e-01,  -3.9430589e+01],\n",
    "#   [-1.8389418e-01,   9.3847198e-01,   1.5315784e+02],\n",
    "#    [1.9641425e-04,  -1.6015275e-05,   1.0000000e+00]])\n",
    "\n",
    "with open('graf/H1to2p') as f:\n",
    "   H = np.array([[float(h) for h in line.split()] for line in f])\n",
    "\n",
    "im1to2 = cv.warpPerspective(im1, H, (1000,1000))\n",
    "\n",
    "cv.namedWindow('Image 1', cv.WINDOW_AUTOSIZE)\n",
    "cv.imshow('Image 1', im1)\n",
    "cv.waitKey(0)\n",
    "cv.namedWindow('Image 2', cv.WINDOW_AUTOSIZE)\n",
    "cv.imshow('Image 2', im2)\n",
    "cv.waitKey(0)\n",
    "cv.namedWindow('Image 1 Warped', cv.WINDOW_AUTOSIZE)\n",
    "cv.imshow('Image 1 Warped', im1to2)\n",
    "cv.waitKey(0)\n",
    "cv.destroyAllWindows()"
   ]
  },
  {
   "cell_type": "code",
   "execution_count": null,
   "metadata": {},
   "outputs": [],
   "source": [
    "# Transfroming the second image onto the first\n",
    "import numpy as np\n",
    "import cv2 as cv\n",
    "im1 = cv.imread('graf/img1.ppm', cv.IMREAD_ANYCOLOR)\n",
    "im2 = cv.imread('graf/img2.ppm', cv.IMREAD_ANYCOLOR)\n",
    "assert im1 is not None\n",
    "assert im2 is not None\n",
    "\n",
    "with open(r'graf/H1to2p') as f:\n",
    "   H = np.array([[float(h) for h in line.split()] for line in f])\n",
    "\n",
    "im2to1 = cv.warpPerspective(im2, np.linalg.inv(H), (1000,1000))\n",
    "im2to1[0:im1.shape[0], 0:im1.shape[1]] = im1\n",
    "im2to1[0:im1.shape[0], 0:im1.shape[1]] += np.array([50, 0, 0], dtype=np.uint8) # Change te color a little\n",
    "\n",
    "cv.namedWindow('Image 1', cv.WINDOW_AUTOSIZE)\n",
    "cv.imshow('Image 1', im1)\n",
    "cv.waitKey(0)\n",
    "cv.namedWindow('Image 2', cv.WINDOW_AUTOSIZE)\n",
    "cv.imshow('Image 2', im2)\n",
    "cv.waitKey(0)\n",
    "cv.namedWindow('Image 1 Warped', cv.WINDOW_AUTOSIZE)\n",
    "cv.imshow('Image 1 Warped', im2to1)\n",
    "cv.waitKey(0)\n",
    "cv.destroyAllWindows()"
   ]
  },
  {
   "cell_type": "code",
   "execution_count": 14,
   "metadata": {},
   "outputs": [
    {
     "ename": "KeyboardInterrupt",
     "evalue": "",
     "output_type": "error",
     "traceback": [
      "\u001b[1;31m---------------------------------------------------------------------------\u001b[0m",
      "\u001b[1;31mKeyboardInterrupt\u001b[0m                         Traceback (most recent call last)",
      "Cell \u001b[1;32mIn[14], line 45\u001b[0m\n\u001b[0;32m     43\u001b[0m     \u001b[39mif\u001b[39;00m n \u001b[39m==\u001b[39m N:\n\u001b[0;32m     44\u001b[0m         \u001b[39mbreak\u001b[39;00m\n\u001b[1;32m---> 45\u001b[0m     \u001b[39mif\u001b[39;00m cv\u001b[39m.\u001b[39;49mwaitKey(\u001b[39m20\u001b[39;49m) \u001b[39m&\u001b[39m \u001b[39m0xFF\u001b[39m \u001b[39m==\u001b[39m \u001b[39m27\u001b[39m:\n\u001b[0;32m     46\u001b[0m         \u001b[39mbreak\u001b[39;00m\n\u001b[0;32m     47\u001b[0m \u001b[39mprint\u001b[39m(p1)\n",
      "\u001b[1;31mKeyboardInterrupt\u001b[0m: "
     ]
    }
   ],
   "source": [
    "#  Section 3\n",
    "#Transfroming the second image onto the first usign the homography computed\n",
    "import numpy as np\n",
    "import cv2 as cv\n",
    "im1 = cv.imread('graf/img1.ppm', cv.IMREAD_ANYCOLOR)\n",
    "im2 = cv.imread('graf/img2.ppm', cv.IMREAD_ANYCOLOR)\n",
    "assert im1 is not None\n",
    "assert im2 is not None\n",
    "\n",
    "N = 5\n",
    "global n\n",
    "n = 0\n",
    "p1 = np.empty((N,2))\n",
    "p2 = np.empty((N,2))\n",
    "# Mouse callback function\n",
    "def draw_circle(event, x, y, falgs, param):\n",
    "    global n\n",
    "    p = param[0]\n",
    "    if event == cv.EVENT_LBUTTONDOWN:\n",
    "        cv.circle(param[1], (x,y), 5, (255, 0, 0), -1)\n",
    "        p[n] = (x,y)\n",
    "        n +=1\n",
    "# once image is opened, click five times to select matching points \n",
    "im1copy = im1.copy()\n",
    "im2copy = im2.copy()\n",
    "cv.namedWindow('Image 1', cv.WINDOW_AUTOSIZE)\n",
    "param = [p1, im1copy]\n",
    "cv.setMouseCallback('Image 1', draw_circle, param)\n",
    "while(1):\n",
    "    cv.imshow('Image 1', im1copy)\n",
    "    if n == N:\n",
    "        break\n",
    "    if cv.waitKey(20) & 0xFF == 27:\n",
    "        break\n",
    "\n",
    "n = 0\n",
    "cv.namedWindow('Image 2', cv.WINDOW_AUTOSIZE)\n",
    "param = [p2, im2copy]\n",
    "cv.setMouseCallback('Image 2', draw_circle, param)\n",
    "\n",
    "while(1):\n",
    "    cv.imshow('Image 2', im2copy)\n",
    "    if n == N:\n",
    "        break\n",
    "    if cv.waitKey(20) & 0xFF == 27:\n",
    "        break\n",
    "print(p1)\n",
    "print(p2)\n",
    "cv.destroyAllWindows()\n",
    "\n",
    "H = cv.findHomography(p1, p2)\n",
    "H\n",
    "\n",
    "# Warping (complete yourself)\n",
    "\n",
    "\n"
   ]
  }
 ],
 "metadata": {
  "kernelspec": {
   "display_name": "Python 3",
   "language": "python",
   "name": "python3"
  },
  "language_info": {
   "codemirror_mode": {
    "name": "ipython",
    "version": 3
   },
   "file_extension": ".py",
   "mimetype": "text/x-python",
   "name": "python",
   "nbconvert_exporter": "python",
   "pygments_lexer": "ipython3",
   "version": "3.11.2"
  },
  "orig_nbformat": 4,
  "vscode": {
   "interpreter": {
    "hash": "5238573367df39f7286bb46f9ff5f08f63a01a80960060ce41e3c79b190280fa"
   }
  }
 },
 "nbformat": 4,
 "nbformat_minor": 2
}
