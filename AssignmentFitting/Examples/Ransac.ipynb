{
  "cells": [
    {
      "cell_type": "code",
      "execution_count": 1,
      "metadata": {
        "collapsed": false
      },
      "outputs": [],
      "source": [
        "#matplotlib inline"
      ]
    },
    {
      "cell_type": "markdown",
      "metadata": {},
      "source": [
        "\n",
        "# Robust linear model estimation using RANSAC\n",
        "\n",
        "In this example, we see how to robustly fit a linear model to faulty data using\n",
        "the `RANSAC <ransac_regression>` algorithm.\n",
        "\n",
        "The ordinary linear regressor is sensitive to outliers, and the fitted line can\n",
        "easily be skewed away from the true underlying relationship of data.\n",
        "\n",
        "The RANSAC regressor automatically splits the data into inliers and outliers,\n",
        "and the fitted line is determined only by the identified inliers.\n"
      ]
    },
    {
      "cell_type": "code",
      "execution_count": 2,
      "metadata": {
        "collapsed": false
      },
      "outputs": [
        {
          "ename": "ModuleNotFoundError",
          "evalue": "No module named 'sklearn'",
          "output_type": "error",
          "traceback": [
            "\u001b[1;31m---------------------------------------------------------------------------\u001b[0m",
            "\u001b[1;31mModuleNotFoundError\u001b[0m                       Traceback (most recent call last)",
            "Cell \u001b[1;32mIn[2], line 4\u001b[0m\n\u001b[0;32m      1\u001b[0m \u001b[39mimport\u001b[39;00m \u001b[39mnumpy\u001b[39;00m \u001b[39mas\u001b[39;00m \u001b[39mnp\u001b[39;00m\n\u001b[0;32m      2\u001b[0m \u001b[39mfrom\u001b[39;00m \u001b[39mmatplotlib\u001b[39;00m \u001b[39mimport\u001b[39;00m pyplot \u001b[39mas\u001b[39;00m plt\n\u001b[1;32m----> 4\u001b[0m \u001b[39mfrom\u001b[39;00m \u001b[39msklearn\u001b[39;00m \u001b[39mimport\u001b[39;00m linear_model, datasets\n\u001b[0;32m      7\u001b[0m n_samples \u001b[39m=\u001b[39m \u001b[39m1000\u001b[39m\n\u001b[0;32m      8\u001b[0m n_outliers \u001b[39m=\u001b[39m \u001b[39m50\u001b[39m\n",
            "\u001b[1;31mModuleNotFoundError\u001b[0m: No module named 'sklearn'"
          ]
        }
      ],
      "source": [
        "import numpy as np\n",
        "from matplotlib import pyplot as plt\n",
        "\n",
        "from sklearn import linear_model, datasets\n",
        "\n",
        "\n",
        "n_samples = 1000\n",
        "n_outliers = 50\n",
        "\n",
        "\n",
        "X, y, coef = datasets.make_regression(\n",
        "    n_samples=n_samples,\n",
        "    n_features=1,\n",
        "    n_informative=1,\n",
        "    noise=10,\n",
        "    coef=True,\n",
        "    random_state=0,\n",
        ")\n",
        "\n",
        "# Add outlier data\n",
        "np.random.seed(0)\n",
        "X[:n_outliers] = 3 + 0.5 * np.random.normal(size=(n_outliers, 1))\n",
        "y[:n_outliers] = -3 + 10 * np.random.normal(size=n_outliers)\n",
        "\n",
        "\n",
        "plt.scatter(\n",
        "    X[:n_samples], y[:n_samples], color=\"yellowgreen\", marker=\".\", label=\"Inliers\"\n",
        ")\n",
        "plt.scatter(\n",
        "    X[:n_outliers], y[:n_outliers], color=\"gold\", marker=\".\", label=\"Outliers\"\n",
        ")\n",
        "plt.legend(loc=\"lower right\")\n",
        "plt.xlabel(\"Input\")\n",
        "plt.ylabel(\"Response\")\n",
        "plt.show()"
      ]
    },
    {
      "cell_type": "code",
      "execution_count": null,
      "metadata": {},
      "outputs": [],
      "source": [
        "\n",
        "# Fit line using all data\n",
        "lr = linear_model.LinearRegression()\n",
        "lr.fit(X, y)\n",
        "\n",
        "# Robustly fit linear model with RANSAC algorithm\n",
        "ransac = linear_model.RANSACRegressor()\n",
        "ransac.fit(X, y)\n",
        "inlier_mask = ransac.inlier_mask_\n",
        "outlier_mask = np.logical_not(inlier_mask)\n",
        "\n",
        "# Predict data of estimated models\n",
        "line_X = np.arange(X.min(), X.max())[:, np.newaxis]\n",
        "line_y = lr.predict(line_X)\n",
        "line_y_ransac = ransac.predict(line_X)\n",
        "print\n",
        "# Compare estimated coefficients\n",
        "print(\"Estimated coefficients (true, linear regression, RANSAC):\")\n",
        "print(coef, lr.coef_, ransac.estimator_.coef_)\n",
        "\n",
        "lw = 2\n",
        "plt.scatter(\n",
        "    X[inlier_mask], y[inlier_mask], color=\"yellowgreen\", marker=\".\", label=\"Inliers\"\n",
        ")\n",
        "plt.scatter(\n",
        "    X[outlier_mask], y[outlier_mask], color=\"gold\", marker=\".\", label=\"Outliers\"\n",
        ")\n",
        "plt.plot(line_X, line_y, color=\"navy\", linewidth=lw, label=\"Linear regressor\")\n",
        "plt.plot(\n",
        "    line_X,\n",
        "    line_y_ransac,\n",
        "    color=\"cornflowerblue\",\n",
        "    linewidth=lw,\n",
        "    label=\"RANSAC regressor\",\n",
        ")\n",
        "plt.legend(loc=\"lower right\")\n",
        "plt.xlabel(\"Input\")\n",
        "plt.ylabel(\"Response\")\n",
        "plt.show()"
      ]
    }
  ],
  "metadata": {
    "kernelspec": {
      "display_name": "cv",
      "language": "python",
      "name": "python3"
    },
    "language_info": {
      "codemirror_mode": {
        "name": "ipython",
        "version": 3
      },
      "file_extension": ".py",
      "mimetype": "text/x-python",
      "name": "python",
      "nbconvert_exporter": "python",
      "pygments_lexer": "ipython3",
      "version": "3.9.7"
    },
    "vscode": {
      "interpreter": {
        "hash": "f5ca2acd7cfffe1ba430de162f968a242c109575471a8c149f67da86ddb07b1e"
      }
    }
  },
  "nbformat": 4,
  "nbformat_minor": 0
}
