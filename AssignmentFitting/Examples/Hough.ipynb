{
 "cells": [
  {
   "cell_type": "code",
   "execution_count": 1,
   "metadata": {},
   "outputs": [],
   "source": [
    "# Houghlines\n",
    "import cv2 as cv\n",
    "import numpy as np\n",
    "im = cv.imread(r'./images/sudoku.png', cv.IMREAD_COLOR)\n",
    "assert im is not None\n",
    "\n",
    "# Convert the img to grayscale\n",
    "gray = cv.cvtColor(im, cv.COLOR_BGR2BGRA)\n",
    "# Apply edge detection\n",
    "edges = cv.Canny(gray, 50, 150, apertureSize = 3)\n",
    "# cv.Canny(image, Lower Threshold, Upper threshold, apertureSize = 3)\n",
    "#increase the Aperture size when you want to detect more detailed features.\n",
    "  \n",
    "# This returns an array of r and theta values\n",
    "lines = cv.HoughLines(edges, 1, np.pi/180, 200)\n",
    "#A line can be represented as y = mx + c or in parametric form, as r = xcosθ + ysinθ \n",
    "#where r is the perpendicular distance from origin to the line, and θ is the angle formed by this perpendicular line and horizontal axis measured in counter-clockwise \n",
    "#Let rows denote the r and columns denote the (θ)theta.\n",
    "#Size of array depends on the accuracy you need. Suppose you want the accuracy of angles to be 1 degree, \n",
    "#you need 180 columns (Maximum degree for a straight line is 180).\n",
    "#For r, the maximum distance possible is the diagonal length of the image. \n",
    "#So taking one pixel accuracy, number of rows can be diagonal length of the image.\n",
    "for line in lines:\n",
    "    rho, theta = line[0]\n",
    "    a = np.cos(theta)\n",
    "    b = np.sin(theta)\n",
    "    x0 = a*rho\n",
    "    y0 = b*rho\n",
    "    #get two points to draw a line (x1,y1), (x2,y2)\n",
    "    # x1 stores the rounded off value of (rcos(theta)-1000sin(theta))\n",
    "    x1 = int(x0 + 1000*(-b))\n",
    "    # y1 stores the rounded off value of (rsin(theta)+1000cos(theta))\n",
    "    y1 = int(y0 + 1000*(a))\n",
    "    x2 = int(x0 - 1000*(-b))\n",
    "    y2 = int(y0 - 1000*(a))\n",
    "    # cv2.line draws a line in img from the point(x1,y1) to (x2,y2).\n",
    "    # (0,0,255) denotes the colour of the line to be\n",
    "    # drawn. In this case, it is red.\n",
    "    cv.line(im, (x1,y1), (x2,y2), (0,0,255), 2)\n",
    "\n",
    "cv.namedWindow(\"Image\", cv.WINDOW_NORMAL)\n",
    "cv.imshow(\"Image\", gray)\n",
    "cv.waitKey()\n",
    "cv.imshow(\"Image\", edges)\n",
    "cv.waitKey()\n",
    "cv.imshow(\"Image\", im)\n",
    "cv.waitKey()\n",
    "cv.destroyAllWindows()"
   ]
  }
 ],
 "metadata": {
  "kernelspec": {
   "display_name": "cv",
   "language": "python",
   "name": "python3"
  },
  "language_info": {
   "codemirror_mode": {
    "name": "ipython",
    "version": 3
   },
   "file_extension": ".py",
   "mimetype": "text/x-python",
   "name": "python",
   "nbconvert_exporter": "python",
   "pygments_lexer": "ipython3",
   "version": "3.10.10"
  },
  "orig_nbformat": 4,
  "vscode": {
   "interpreter": {
    "hash": "f5ca2acd7cfffe1ba430de162f968a242c109575471a8c149f67da86ddb07b1e"
   }
  }
 },
 "nbformat": 4,
 "nbformat_minor": 2
}
